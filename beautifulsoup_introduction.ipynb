{
 "cells": [
  {
   "cell_type": "code",
   "execution_count": 174,
   "id": "c5f2c968",
   "metadata": {},
   "outputs": [],
   "source": [
    "html = '<!DOCTYPE html>\\\n",
    "<html>\\\n",
    "<head>\\\n",
    "<title>Page Title</title>\\\n",
    "</head>\\\n",
    "<body>\\\n",
    "<h1 class=\"head\">This is a Heading</h1>\\\n",
    "<p>This is a paragraph1.</p>\\\n",
    "<p>This is a paragraph2.</p>\\\n",
    "<title>Body title</title>\\\n",
    "</body>\\\n",
    "</html>'"
   ]
  },
  {
   "cell_type": "code",
   "execution_count": 175,
   "id": "e512edbc",
   "metadata": {},
   "outputs": [],
   "source": [
    "from bs4 import BeautifulSoup"
   ]
  },
  {
   "cell_type": "code",
   "execution_count": 176,
   "id": "5ef0dfff",
   "metadata": {},
   "outputs": [
    {
     "data": {
      "text/plain": [
       "bs4.BeautifulSoup"
      ]
     },
     "execution_count": 176,
     "metadata": {},
     "output_type": "execute_result"
    }
   ],
   "source": [
    "data = BeautifulSoup(html, 'html.parser')\n",
    "type(data)"
   ]
  },
  {
   "cell_type": "code",
   "execution_count": 177,
   "id": "97fff9ce",
   "metadata": {},
   "outputs": [
    {
     "name": "stdout",
     "output_type": "stream",
     "text": [
      "<!DOCTYPE html>\n",
      "<html>\n",
      " <head>\n",
      "  <title>\n",
      "   Page Title\n",
      "  </title>\n",
      " </head>\n",
      " <body>\n",
      "  <h1 class=\"head\">\n",
      "   This is a Heading\n",
      "  </h1>\n",
      "  <p>\n",
      "   This is a paragraph1.\n",
      "  </p>\n",
      "  <p>\n",
      "   This is a paragraph2.\n",
      "  </p>\n",
      "  <title>\n",
      "   Body title\n",
      "  </title>\n",
      " </body>\n",
      "</html>\n"
     ]
    }
   ],
   "source": [
    "print(data.prettify())"
   ]
  },
  {
   "cell_type": "code",
   "execution_count": 178,
   "id": "1205c588",
   "metadata": {},
   "outputs": [
    {
     "data": {
      "text/plain": [
       "<title>Page Title</title>"
      ]
     },
     "execution_count": 178,
     "metadata": {},
     "output_type": "execute_result"
    }
   ],
   "source": [
    "data.title"
   ]
  },
  {
   "cell_type": "code",
   "execution_count": 179,
   "id": "8eec61f9",
   "metadata": {},
   "outputs": [
    {
     "data": {
      "text/plain": [
       "<title>Page Title</title>"
      ]
     },
     "execution_count": 179,
     "metadata": {},
     "output_type": "execute_result"
    }
   ],
   "source": [
    "data.head.title"
   ]
  },
  {
   "cell_type": "code",
   "execution_count": 180,
   "id": "56d19fc3",
   "metadata": {},
   "outputs": [
    {
     "data": {
      "text/plain": [
       "<title>Body title</title>"
      ]
     },
     "execution_count": 180,
     "metadata": {},
     "output_type": "execute_result"
    }
   ],
   "source": [
    "data.body.title"
   ]
  },
  {
   "cell_type": "code",
   "execution_count": 181,
   "id": "c8df9727",
   "metadata": {},
   "outputs": [
    {
     "name": "stdout",
     "output_type": "stream",
     "text": [
      "<title>Page Title</title>\n",
      "title\n",
      "Page Title\n"
     ]
    }
   ],
   "source": [
    "print(data.title)\n",
    "print(data.title.name)\n",
    "print(data.title.string)"
   ]
  },
  {
   "cell_type": "code",
   "execution_count": 182,
   "id": "afce8228",
   "metadata": {},
   "outputs": [
    {
     "name": "stdout",
     "output_type": "stream",
     "text": [
      "{}\n"
     ]
    }
   ],
   "source": [
    "print(data.title.attrs)"
   ]
  },
  {
   "cell_type": "code",
   "execution_count": 183,
   "id": "8cdf624c",
   "metadata": {},
   "outputs": [
    {
     "data": {
      "text/plain": [
       "{'class': ['head']}"
      ]
     },
     "execution_count": 183,
     "metadata": {},
     "output_type": "execute_result"
    }
   ],
   "source": [
    "data.h1.attrs"
   ]
  },
  {
   "cell_type": "code",
   "execution_count": 184,
   "id": "6a7917cb",
   "metadata": {},
   "outputs": [
    {
     "data": {
      "text/plain": [
       "['head']"
      ]
     },
     "execution_count": 184,
     "metadata": {},
     "output_type": "execute_result"
    }
   ],
   "source": [
    "data.h1['class']"
   ]
  },
  {
   "cell_type": "code",
   "execution_count": 185,
   "id": "931d6e10",
   "metadata": {},
   "outputs": [
    {
     "data": {
      "text/plain": [
       "['head']"
      ]
     },
     "execution_count": 185,
     "metadata": {},
     "output_type": "execute_result"
    }
   ],
   "source": [
    "data.h1.get('class')"
   ]
  },
  {
   "cell_type": "code",
   "execution_count": 186,
   "id": "7e75a586",
   "metadata": {},
   "outputs": [
    {
     "data": {
      "text/plain": [
       "<p>This is a paragraph1.</p>"
      ]
     },
     "execution_count": 186,
     "metadata": {},
     "output_type": "execute_result"
    }
   ],
   "source": [
    "data.find('p')"
   ]
  },
  {
   "cell_type": "code",
   "execution_count": 187,
   "id": "d04c9953",
   "metadata": {},
   "outputs": [
    {
     "data": {
      "text/plain": [
       "[<p>This is a paragraph1.</p>, <p>This is a paragraph2.</p>]"
      ]
     },
     "execution_count": 187,
     "metadata": {},
     "output_type": "execute_result"
    }
   ],
   "source": [
    "data.find_all('p')"
   ]
  }
 ],
 "metadata": {
  "kernelspec": {
   "display_name": "Python 3 (ipykernel)",
   "language": "python",
   "name": "python3"
  },
  "language_info": {
   "codemirror_mode": {
    "name": "ipython",
    "version": 3
   },
   "file_extension": ".py",
   "mimetype": "text/x-python",
   "name": "python",
   "nbconvert_exporter": "python",
   "pygments_lexer": "ipython3",
   "version": "3.9.13"
  }
 },
 "nbformat": 4,
 "nbformat_minor": 5
}

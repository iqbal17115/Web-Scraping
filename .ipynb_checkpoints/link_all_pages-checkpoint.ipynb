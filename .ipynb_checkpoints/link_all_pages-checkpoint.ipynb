{
 "cells": [
  {
   "cell_type": "code",
   "execution_count": null,
   "id": "d5494aef",
   "metadata": {},
   "outputs": [],
   "source": [
    "import requests\n",
    "from bs4 import BeautifulSoup"
   ]
  },
  {
   "cell_type": "code",
   "execution_count": null,
   "id": "470195b9",
   "metadata": {},
   "outputs": [],
   "source": [
    "response = requests.get('http://books.toscrape.com/')\n",
    "data = BeautifulSoup(response.text, 'html.parser')\n",
    "data"
   ]
  },
  {
   "cell_type": "code",
   "execution_count": null,
   "id": "bb356e0b",
   "metadata": {},
   "outputs": [],
   "source": [
    "all_books = data.find_all(class_ = 'product_pod')\n",
    "print(len(all_books))"
   ]
  },
  {
   "cell_type": "code",
   "execution_count": null,
   "id": "5268776a",
   "metadata": {},
   "outputs": [],
   "source": [
    "base_url = 'http://books.toscrape.com/'\n",
    "urls = []\n",
    "for i in all_books:\n",
    "    urls.append(base_url + i.a['href'])\n",
    "# urls"
   ]
  },
  {
   "cell_type": "code",
   "execution_count": null,
   "id": "6a15ff5e",
   "metadata": {},
   "outputs": [],
   "source": [
    "all_url = ['http://books.toscrape.com/catalogue/page-1.html']\n",
    "current_page = 'http://books.toscrape.com/catalogue/page-1.html'\n",
    "base_url = 'http://books.toscrape.com/catalogue/'\n",
    "\n",
    "response = requests.get(current_page)\n",
    "\n",
    "while response.status_code == 200 :\n",
    "    data = BeautifulSoup(response.text, 'html.parser')\n",
    "    next_page = data.find(class_ = 'next')\n",
    "    if next_page is None:\n",
    "        break\n",
    "    next_page_url = base_url + next_page.a['href']\n",
    "    print(next_page_url)  \n",
    "    all_url.append(next_page_url)\n",
    "    \n",
    "    current_page = next_page_url\n",
    "    response = requests.get(current_page)\n"
   ]
  }
 ],
 "metadata": {
  "kernelspec": {
   "display_name": "Python 3 (ipykernel)",
   "language": "python",
   "name": "python3"
  },
  "language_info": {
   "codemirror_mode": {
    "name": "ipython",
    "version": 3
   },
   "file_extension": ".py",
   "mimetype": "text/x-python",
   "name": "python",
   "nbconvert_exporter": "python",
   "pygments_lexer": "ipython3",
   "version": "3.9.13"
  }
 },
 "nbformat": 4,
 "nbformat_minor": 5
}
